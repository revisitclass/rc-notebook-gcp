{
 "cells": [
  {
   "cell_type": "code",
   "execution_count": 2,
   "id": "8e4e9f8f-7047-430b-bd04-e3e6b083e432",
   "metadata": {},
   "outputs": [
    {
     "name": "stderr",
     "output_type": "stream",
     "text": [
      "Query complete after 0.01s: 100%|██████████| 1/1 [00:00<00:00, 444.31query/s]                          \n",
      "Downloading: 100%|██████████| 4/4 [00:00<00:00,  4.60rows/s]\n"
     ]
    },
    {
     "data": {
      "text/html": [
       "<div>\n",
       "<style scoped>\n",
       "    .dataframe tbody tr th:only-of-type {\n",
       "        vertical-align: middle;\n",
       "    }\n",
       "\n",
       "    .dataframe tbody tr th {\n",
       "        vertical-align: top;\n",
       "    }\n",
       "\n",
       "    .dataframe thead th {\n",
       "        text-align: right;\n",
       "    }\n",
       "</style>\n",
       "<table border=\"1\" class=\"dataframe\">\n",
       "  <thead>\n",
       "    <tr style=\"text-align: right;\">\n",
       "      <th></th>\n",
       "      <th>customer_id</th>\n",
       "      <th>card_number</th>\n",
       "      <th>customer_name</th>\n",
       "      <th>card_issuer</th>\n",
       "      <th>expiry_dt</th>\n",
       "    </tr>\n",
       "  </thead>\n",
       "  <tbody>\n",
       "    <tr>\n",
       "      <th>0</th>\n",
       "      <td>9345</td>\n",
       "      <td>6782855463100418</td>\n",
       "      <td>Camron</td>\n",
       "      <td>Discover</td>\n",
       "      <td>2023-04-30</td>\n",
       "    </tr>\n",
       "    <tr>\n",
       "      <th>1</th>\n",
       "      <td>544</td>\n",
       "      <td>3782822463100115</td>\n",
       "      <td>Tasha</td>\n",
       "      <td>American Express</td>\n",
       "      <td>2023-01-31</td>\n",
       "    </tr>\n",
       "    <tr>\n",
       "      <th>2</th>\n",
       "      <td>934</td>\n",
       "      <td>5782844463100317</td>\n",
       "      <td>Nathanael</td>\n",
       "      <td>Mastercard</td>\n",
       "      <td>2023-01-31</td>\n",
       "    </tr>\n",
       "    <tr>\n",
       "      <th>3</th>\n",
       "      <td>933</td>\n",
       "      <td>4782833463100216</td>\n",
       "      <td>Raynor</td>\n",
       "      <td>Visa</td>\n",
       "      <td>2023-03-31</td>\n",
       "    </tr>\n",
       "  </tbody>\n",
       "</table>\n",
       "</div>"
      ],
      "text/plain": [
       "   customer_id       card_number customer_name       card_issuer   expiry_dt\n",
       "0         9345  6782855463100418        Camron          Discover  2023-04-30\n",
       "1          544  3782822463100115         Tasha  American Express  2023-01-31\n",
       "2          934  5782844463100317     Nathanael        Mastercard  2023-01-31\n",
       "3          933  4782833463100216        Raynor              Visa  2023-03-31"
      ]
     },
     "execution_count": 2,
     "metadata": {},
     "output_type": "execute_result"
    }
   ],
   "source": [
    "%%bigquery\n",
    "select * from rc_fin_test_tables.credit_card_info;"
   ]
  },
  {
   "cell_type": "code",
   "execution_count": 3,
   "id": "5aaa399e-8644-42c5-962e-4e97d97aeecc",
   "metadata": {},
   "outputs": [
    {
     "name": "stderr",
     "output_type": "stream",
     "text": [
      "Query complete after 0.00s: 100%|██████████| 1/1 [00:00<00:00, 694.08query/s] \n",
      "Downloading: 100%|██████████| 4/4 [00:01<00:00,  3.44rows/s]\n"
     ]
    }
   ],
   "source": [
    "%%bigquery df_card_details\n",
    "select * from rc_fin_test_tables.credit_card_info;"
   ]
  },
  {
   "cell_type": "code",
   "execution_count": 4,
   "id": "85771337-2ce8-4c5f-b738-c8dedb6726e6",
   "metadata": {},
   "outputs": [
    {
     "data": {
      "text/html": [
       "<div>\n",
       "<style scoped>\n",
       "    .dataframe tbody tr th:only-of-type {\n",
       "        vertical-align: middle;\n",
       "    }\n",
       "\n",
       "    .dataframe tbody tr th {\n",
       "        vertical-align: top;\n",
       "    }\n",
       "\n",
       "    .dataframe thead th {\n",
       "        text-align: right;\n",
       "    }\n",
       "</style>\n",
       "<table border=\"1\" class=\"dataframe\">\n",
       "  <thead>\n",
       "    <tr style=\"text-align: right;\">\n",
       "      <th></th>\n",
       "      <th>customer_id</th>\n",
       "      <th>card_number</th>\n",
       "      <th>customer_name</th>\n",
       "      <th>card_issuer</th>\n",
       "      <th>expiry_dt</th>\n",
       "    </tr>\n",
       "  </thead>\n",
       "  <tbody>\n",
       "    <tr>\n",
       "      <th>0</th>\n",
       "      <td>9345</td>\n",
       "      <td>6782855463100418</td>\n",
       "      <td>Camron</td>\n",
       "      <td>Discover</td>\n",
       "      <td>2023-04-30</td>\n",
       "    </tr>\n",
       "    <tr>\n",
       "      <th>1</th>\n",
       "      <td>544</td>\n",
       "      <td>3782822463100115</td>\n",
       "      <td>Tasha</td>\n",
       "      <td>American Express</td>\n",
       "      <td>2023-01-31</td>\n",
       "    </tr>\n",
       "  </tbody>\n",
       "</table>\n",
       "</div>"
      ],
      "text/plain": [
       "   customer_id       card_number customer_name       card_issuer   expiry_dt\n",
       "0         9345  6782855463100418        Camron          Discover  2023-04-30\n",
       "1          544  3782822463100115         Tasha  American Express  2023-01-31"
      ]
     },
     "execution_count": 4,
     "metadata": {},
     "output_type": "execute_result"
    }
   ],
   "source": [
    "df_card_details.head(2)"
   ]
  },
  {
   "cell_type": "code",
   "execution_count": null,
   "id": "0494b973-299c-4812-9e19-6723d8e72e13",
   "metadata": {},
   "outputs": [],
   "source": []
  },
  {
   "cell_type": "code",
   "execution_count": null,
   "id": "f4de6533-9dd2-4d28-a806-1de539637d1b",
   "metadata": {},
   "outputs": [],
   "source": []
  }
 ],
 "metadata": {
  "environment": {
   "kernel": "python3",
   "name": "common-cpu.m95",
   "type": "gcloud",
   "uri": "gcr.io/deeplearning-platform-release/base-cpu:m95"
  },
  "kernelspec": {
   "display_name": "Python 3",
   "language": "python",
   "name": "python3"
  },
  "language_info": {
   "codemirror_mode": {
    "name": "ipython",
    "version": 3
   },
   "file_extension": ".py",
   "mimetype": "text/x-python",
   "name": "python",
   "nbconvert_exporter": "python",
   "pygments_lexer": "ipython3",
   "version": "3.7.12"
  }
 },
 "nbformat": 4,
 "nbformat_minor": 5
}
